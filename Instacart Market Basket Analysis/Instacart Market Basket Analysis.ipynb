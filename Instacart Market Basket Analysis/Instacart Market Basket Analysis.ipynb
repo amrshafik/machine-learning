{
 "cells": [
  {
   "cell_type": "markdown",
   "source": [],
   "metadata": {},
  },
  {
   "cell_type": "markdown",
   "metadata": {},
   "source": [
    "## Import Relevant Libraries"
   ]
  },
  {
   "cell_type": "code",
   "execution_count": 1,
   "metadata": {
    "collapsed": true
   },
   "outputs": [],
   "source": [
    "import os\n",
    "import numpy as np\n",
    "import pandas as pd\n",
    "import matplotlib.pyplot as plt\n",
    "from sklearn.preprocessing import OneHotEncoder\n",
    "from sklearn.preprocessing import LabelEncoder\n",
    "from sklearn.preprocessing import normalize\n",
    "from sklearn.model_selection import train_test_split\n",
    "from sklearn.model_selection import GridSearchCV\n",
    "from sklearn.tree import DecisionTreeClassifier\n",
    "from sklearn.metrics import accuracy_score\n",
    "\n",
    "%matplotlib inline"
   ]
  },
  {
   "cell_type": "markdown",
   "metadata": {},
   "source": [
    "## Load Data Set"
   ]
  },
  {
   "cell_type": "code",
   "execution_count": 2,
   "metadata": {
    "collapsed": false
   },
   "outputs": [
    {
     "name": "stdout",
     "output_type": "stream",
     "text": [
      "Successfully imported data.\n"
     ]
    }
   ],
   "source": [
    "cwd = os.getcwd()\n",
    "\n",
    "###### Import data into pandas dataframes ######\n",
    "try:\n",
    "    dfAisles = pd.read_csv(os.path.join(cwd,'data\\\\aisles.csv'),low_memory=False,)\n",
    "    dfDepts = pd.read_csv(os.path.join(cwd,'data\\\\departments.csv'),low_memory=False,) \n",
    "    dfProducts =  pd.read_csv(os.path.join(cwd,'data\\\\products.csv'),low_memory=False,)\n",
    "    dfOrders =  pd.read_csv(os.path.join(cwd,'data\\\\orders.csv'),low_memory=False,dtype={'order_id':np.int32,\n",
    "                                                                                        'user_id':np.int32,\n",
    "                                                                                        'order_number':np.int32,\n",
    "                                                                                        'order_dow':np.int8,\n",
    "                                                                                        'order_hour_of_day':np.int8,\n",
    "                                                                                        'days_since_prior_order':np.float32})\n",
    "    dfOP_Prior =  pd.read_csv(os.path.join(cwd,'data\\\\order_products__prior.csv'),low_memory=False, dtype={'order_id': np.int32,\n",
    "                                                                                                           'product_id': np.int32,\n",
    "                                                                                                           'add_to_cart_order': np.int16, \n",
    "                                                                                                           'reordered': np.int8})\n",
    "    dfOP_Train =  pd.read_csv(os.path.join(cwd,'data\\\\order_products__train.csv'),low_memory=False,dtype={'order_id': np.int32,\n",
    "                                                                                                          'product_id': np.int32,\n",
    "                                                                                                          'add_to_cart_order': np.int16,\n",
    "                                                                                                          'reordered': np.int8})\n",
    "    print (\"Successfully imported data.\")\n",
    "except:\n",
    "    print (\"Error importing data.\")"
   ]
  },
  {
   "cell_type": "markdown",
   "metadata": {},
   "source": [
    "## Dataset Exploration, Consolidation, & Restructuring"
   ]
  },
  {
   "cell_type": "code",
   "execution_count": 3,
   "metadata": {
    "collapsed": false,
    "scrolled": false
   },
   "outputs": [
    {
     "name": "stdout",
     "output_type": "stream",
     "text": [
      "Total number of Aisles: 134\n",
      "\n",
      "\n",
      "   aisle_id                       aisle\n",
      "0         1       prepared soups salads\n",
      "1         2           specialty cheeses\n",
      "2         3         energy granola bars\n",
      "3         4               instant foods\n",
      "4         5  marinades meat preparation\n"
     ]
    }
   ],
   "source": [
    "###### Look at Aisles ######\n",
    "print (\"Total number of Aisles: {:,}\\n\\n\".format(dfAisles.shape[0]))\n",
    "print (dfAisles.head())"
   ]
  },
  {
   "cell_type": "code",
   "execution_count": 4,
   "metadata": {
    "collapsed": false
   },
   "outputs": [
    {
     "name": "stdout",
     "output_type": "stream",
     "text": [
      "Total number of Departments: 21\n",
      "\n",
      "\n",
      "   department_id department\n",
      "0              1     frozen\n",
      "1              2      other\n",
      "2              3     bakery\n",
      "3              4    produce\n",
      "4              5    alcohol\n"
     ]
    }
   ],
   "source": [
    "###### Look at Departments ######\n",
    "print (\"Total number of Departments: {:,}\\n\\n\".format(dfDepts.shape[0]))\n",
    "print (dfDepts.head())"
   ]
  },
  {
   "cell_type": "code",
   "execution_count": 5,
   "metadata": {
    "collapsed": false
   },
   "outputs": [
    {
     "name": "stdout",
     "output_type": "stream",
     "text": [
      "Total number of Products:49,688\n",
      "\n",
      "\n",
      "   product_id                                       product_name  aisle_id  \\\n",
      "0           1                         Chocolate Sandwich Cookies        61   \n",
      "1           2                                   All-Seasons Salt       104   \n",
      "2           3               Robust Golden Unsweetened Oolong Tea        94   \n",
      "3           4  Smart Ones Classic Favorites Mini Rigatoni Wit...        38   \n",
      "4           5                          Green Chile Anytime Sauce         5   \n",
      "\n",
      "   department_id  \n",
      "0             19  \n",
      "1             13  \n",
      "2              7  \n",
      "3              1  \n",
      "4             13  \n"
     ]
    }
   ],
   "source": [
    "###### Look at Products ######\n",
    "print (\"Total number of Products:{:,}\\n\\n\".format(dfProducts.shape[0]))\n",
    "print (dfProducts.head())"
   ]
  },
  {
   "cell_type": "code",
   "execution_count": 6,
   "metadata": {
    "collapsed": false
   },
   "outputs": [
    {
     "name": "stdout",
     "output_type": "stream",
     "text": [
      "Shape of Consolidated Products (aisles added): (49688, 5)\n",
      "   product_id                                    product_name  aisle_id  \\\n",
      "0           1                      Chocolate Sandwich Cookies        61   \n",
      "1          78               Nutter Butter Cookie Bites Go-Pak        61   \n",
      "2         102                           Danish Butter Cookies        61   \n",
      "3         172  Gluten Free All Natural Chocolate Chip Cookies        61   \n",
      "4         285                    Mini Nilla Wafers Munch Pack        61   \n",
      "\n",
      "   department_id          aisle  \n",
      "0             19  cookies cakes  \n",
      "1             19  cookies cakes  \n",
      "2             19  cookies cakes  \n",
      "3             19  cookies cakes  \n",
      "4             19  cookies cakes  \n"
     ]
    }
   ],
   "source": [
    "###### Merge Aisle Information with Products DataFrame ######\n",
    "dfConsolidatedProducts = pd.merge(dfProducts,dfAisles,on='aisle_id')\n",
    "print (\"Shape of Consolidated Products (aisles added): \" + str(dfConsolidatedProducts.shape))\n",
    "print (dfConsolidatedProducts.head())\n",
    "del dfAisles   #Free up some memory\n"
   ]
  },
  {
   "cell_type": "code",
   "execution_count": 7,
   "metadata": {
    "collapsed": false
   },
   "outputs": [
    {
     "name": "stdout",
     "output_type": "stream",
     "text": [
      "Shape of Consolidated Products (depts added): (49688, 6)\n",
      "   product_id                                    product_name  aisle_id  \\\n",
      "0           1                      Chocolate Sandwich Cookies        61   \n",
      "1          78               Nutter Butter Cookie Bites Go-Pak        61   \n",
      "2         102                           Danish Butter Cookies        61   \n",
      "3         172  Gluten Free All Natural Chocolate Chip Cookies        61   \n",
      "4         285                    Mini Nilla Wafers Munch Pack        61   \n",
      "\n",
      "   department_id          aisle department  \n",
      "0             19  cookies cakes     snacks  \n",
      "1             19  cookies cakes     snacks  \n",
      "2             19  cookies cakes     snacks  \n",
      "3             19  cookies cakes     snacks  \n",
      "4             19  cookies cakes     snacks  \n"
     ]
    }
   ],
   "source": [
    "###### Merge Department Information with Consolodated Products DataFrame ######\n",
    "dfConsolidatedProducts = pd.merge(dfConsolidatedProducts,dfDepts,on='department_id')\n",
    "print (\"Shape of Consolidated Products (depts added): \" + str(dfConsolidatedProducts.shape))\n",
    "print (dfConsolidatedProducts.head())\n",
    "del dfDepts   #Free up some memory"
   ]
  },
  {
   "cell_type": "code",
   "execution_count": 8,
   "metadata": {
    "collapsed": false
   },
   "outputs": [
    {
     "name": "stdout",
     "output_type": "stream",
     "text": [
      "Total number of orders:3,421,083\n",
      "\n",
      "\n",
      "   order_id  user_id eval_set  order_number  order_dow  order_hour_of_day  \\\n",
      "0   2539329        1    prior             1          2                  8   \n",
      "1   2398795        1    prior             2          3                  7   \n",
      "2    473747        1    prior             3          3                 12   \n",
      "3   2254736        1    prior             4          4                  7   \n",
      "4    431534        1    prior             5          4                 15   \n",
      "\n",
      "   days_since_prior_order  \n",
      "0                     NaN  \n",
      "1                    15.0  \n",
      "2                    21.0  \n",
      "3                    29.0  \n",
      "4                    28.0  \n"
     ]
    }
   ],
   "source": [
    "###### Look at Total Orders ######\n",
    "print(\"Total number of orders:{:,}\\n\\n\".format(dfOrders.shape[0]))\n",
    "print(dfOrders.head())"
   ]
  },
  {
   "cell_type": "markdown",
   "metadata": {},
   "source": [
    "### Deal with missing entries"
   ]
  },
  {
   "cell_type": "code",
   "execution_count": 9,
   "metadata": {
    "collapsed": false
   },
   "outputs": [
    {
     "name": "stdout",
     "output_type": "stream",
     "text": [
      "   order_id  user_id eval_set  order_number  order_dow  order_hour_of_day  \\\n",
      "0   2539329        1    prior             1          2                  8   \n",
      "1   2398795        1    prior             2          3                  7   \n",
      "2    473747        1    prior             3          3                 12   \n",
      "3   2254736        1    prior             4          4                  7   \n",
      "4    431534        1    prior             5          4                 15   \n",
      "\n",
      "   days_since_prior_order  \n",
      "0                 10000.0  \n",
      "1                    15.0  \n",
      "2                    21.0  \n",
      "3                    29.0  \n",
      "4                    28.0  \n"
     ]
    }
   ],
   "source": [
    "###### Fill null entries with 10000 ######\n",
    "dfOrders.fillna(10000,inplace=True)\n",
    "print(dfOrders.head())\n"
   ]
  },
  {
   "cell_type": "code",
   "execution_count": 10,
   "metadata": {
    "collapsed": false
   },
   "outputs": [
    {
     "name": "stdout",
     "output_type": "stream",
     "text": [
      "   order_id  user_id eval_set  order_number  order_dow  order_hour_of_day  \\\n",
      "0   2539329        1    prior             1          2                  8   \n",
      "1   2398795        1    prior             2          3                  7   \n",
      "2    473747        1    prior             3          3                 12   \n",
      "3   2254736        1    prior             4          4                  7   \n",
      "4    431534        1    prior             5          4                 15   \n",
      "\n",
      "   days_since_prior_order  \n",
      "0                 10000.0  \n",
      "1                    15.0  \n",
      "2                    21.0  \n",
      "3                    29.0  \n",
      "4                    28.0  \n"
     ]
    }
   ],
   "source": [
    "###### Convert NaNs to numeric values to avoid problems with models down the line ######\n",
    "dfOrders.loc[:,'days_since_prior_order'] = np.nan_to_num(dfOrders['days_since_prior_order'])\n",
    "print(dfOrders.head())"
   ]
  },
  {
   "cell_type": "code",
   "execution_count": 11,
   "metadata": {
    "collapsed": false
   },
   "outputs": [
    {
     "name": "stdout",
     "output_type": "stream",
     "text": [
      "Total number of orders in test set:75,000\n",
      "\n",
      "\n",
      "     order_id  user_id eval_set  order_number  order_dow  order_hour_of_day  \\\n",
      "38    2774568        3     test            13          5                 15   \n",
      "44     329954        4     test             6          3                 12   \n",
      "53    1528013        6     test             4          3                 16   \n",
      "96    1376945       11     test             8          6                 11   \n",
      "102   1356845       12     test             6          1                 20   \n",
      "\n",
      "     days_since_prior_order  \n",
      "38                     11.0  \n",
      "44                     30.0  \n",
      "53                     22.0  \n",
      "96                      8.0  \n",
      "102                    30.0  \n"
     ]
    }
   ],
   "source": [
    "###### Look at Total Orders in Test Set ######\n",
    "dfOrdersTest = dfOrders[dfOrders['eval_set']=='test']\n",
    "print(\"Total number of orders in test set:{:,}\\n\\n\".format(dfOrdersTest.shape[0]))\n",
    "print(dfOrdersTest.head())"
   ]
  },
  {
   "cell_type": "code",
   "execution_count": 12,
   "metadata": {
    "collapsed": false
   },
   "outputs": [
    {
     "name": "stdout",
     "output_type": "stream",
     "text": [
      "   order_id  user_id eval_set  order_number  order_dow  order_hour_of_day  \\\n",
      "0   1187899        1    train            11          4                  8   \n",
      "1   1187899        1    train            11          4                  8   \n",
      "2   1187899        1    train            11          4                  8   \n",
      "3   1187899        1    train            11          4                  8   \n",
      "4   1187899        1    train            11          4                  8   \n",
      "\n",
      "   days_since_prior_order  product_id  add_to_cart_order  reordered  \n",
      "0                    14.0         196                  1          1  \n",
      "1                    14.0       25133                  2          1  \n",
      "2                    14.0       38928                  3          1  \n",
      "3                    14.0       26405                  4          1  \n",
      "4                    14.0       39657                  5          1  \n"
     ]
    }
   ],
   "source": [
    "###### Merge Order Training Set with Order Set ######\n",
    "dfConsolidatedOrders = pd.merge(dfOrders,dfOP_Train,on='order_id')\n",
    "print(dfConsolidatedOrders.head())\n",
    "del dfOP_Train   #Free up some memory"
   ]
  },
  {
   "cell_type": "code",
   "execution_count": 13,
   "metadata": {
    "collapsed": false
   },
   "outputs": [
    {
     "name": "stdout",
     "output_type": "stream",
     "text": [
      "   order_id  user_id eval_set  order_number  order_dow  order_hour_of_day  \\\n",
      "0   1187899        1    train            11          4                  8   \n",
      "1   2757217       67    train            25          0                 11   \n",
      "2    632715      676    train            12          0                 13   \n",
      "3   1167274      760    train             5          4                 10   \n",
      "4   3347074      804    train            16          3                 21   \n",
      "\n",
      "   days_since_prior_order  product_id  add_to_cart_order  reordered  \\\n",
      "0                    14.0         196                  1          1   \n",
      "1                     5.0         196                  1          1   \n",
      "2                    26.0         196                  2          1   \n",
      "3                     8.0         196                  2          1   \n",
      "4                     5.0         196                  4          0   \n",
      "\n",
      "  product_name  aisle_id  department_id        aisle department  \n",
      "0         Soda        77              7  soft drinks  beverages  \n",
      "1         Soda        77              7  soft drinks  beverages  \n",
      "2         Soda        77              7  soft drinks  beverages  \n",
      "3         Soda        77              7  soft drinks  beverages  \n",
      "4         Soda        77              7  soft drinks  beverages  \n"
     ]
    }
   ],
   "source": [
    "###### Merge orders with products ######\n",
    "dfConsolidatedOrders = pd.merge(dfConsolidatedOrders,dfConsolidatedProducts,on='product_id')\n",
    "print(dfConsolidatedOrders.head())"
   ]
  },
  {
   "cell_type": "code",
   "execution_count": 14,
   "metadata": {
    "collapsed": false
   },
   "outputs": [
    {
     "name": "stdout",
     "output_type": "stream",
     "text": [
      "   order_id  product_id  add_to_cart_order  reordered  user_id eval_set  \\\n",
      "0         2       33120                  1          1   202279    prior   \n",
      "1         2       28985                  2          1   202279    prior   \n",
      "2         2        9327                  3          0   202279    prior   \n",
      "3         2       45918                  4          1   202279    prior   \n",
      "4         2       30035                  5          0   202279    prior   \n",
      "\n",
      "   order_number  order_dow  order_hour_of_day  days_since_prior_order  \n",
      "0             3          5                  9                     8.0  \n",
      "1             3          5                  9                     8.0  \n",
      "2             3          5                  9                     8.0  \n",
      "3             3          5                  9                     8.0  \n",
      "4             3          5                  9                     8.0  \n"
     ]
    }
   ],
   "source": [
    "###### Merge Order Prior Set with Consolidated Order Information ######\n",
    "dfConsolidatedPrior = pd.merge(dfOP_Prior,dfOrders,on='order_id')\n",
    "print(dfConsolidatedPrior.head())"
   ]
  },
  {
   "cell_type": "code",
   "execution_count": 15,
   "metadata": {
    "collapsed": false
   },
   "outputs": [
    {
     "name": "stdout",
     "output_type": "stream",
     "text": [
      "          order_id  product_id  add_to_cart_order  reordered  user_id  \\\n",
      "24076664   2539329         196                  1          0        1   \n",
      "24076665   2539329       14084                  2          0        1   \n",
      "24076666   2539329       12427                  3          0        1   \n",
      "24076667   2539329       26088                  4          0        1   \n",
      "24076668   2539329       26405                  5          0        1   \n",
      "\n",
      "         eval_set  order_number  order_dow  order_hour_of_day  \\\n",
      "24076664    prior             1          2                  8   \n",
      "24076665    prior             1          2                  8   \n",
      "24076666    prior             1          2                  8   \n",
      "24076667    prior             1          2                  8   \n",
      "24076668    prior             1          2                  8   \n",
      "\n",
      "          days_since_prior_order  \n",
      "24076664                 10000.0  \n",
      "24076665                 10000.0  \n",
      "24076666                 10000.0  \n",
      "24076667                 10000.0  \n",
      "24076668                 10000.0  \n"
     ]
    }
   ],
   "source": [
    "###### Take a look at user #1's first order ######\n",
    "print(dfConsolidatedPrior[dfConsolidatedPrior['order_id']==2539329])"
   ]
  },
  {
   "cell_type": "code",
   "execution_count": 16,
   "metadata": {
    "collapsed": false
   },
   "outputs": [
    {
     "name": "stdout",
     "output_type": "stream",
     "text": [
      "   order_id  product_id  add_to_cart_order  reordered  user_id eval_set  \\\n",
      "0         2       33120                  1          1   202279    prior   \n",
      "1        26       33120                  5          0   153404    prior   \n",
      "2       120       33120                 13          0    23750    prior   \n",
      "3       327       33120                  5          1    58707    prior   \n",
      "4       390       33120                 28          1   166654    prior   \n",
      "\n",
      "   order_number  order_dow  order_hour_of_day  days_since_prior_order  \\\n",
      "0             3          5                  9                     8.0   \n",
      "1             2          0                 16                     7.0   \n",
      "2            11          6                  8                    10.0   \n",
      "3            21          6                  9                     8.0   \n",
      "4            48          0                 12                     9.0   \n",
      "\n",
      "         product_name  aisle_id  department_id aisle  department  \n",
      "0  Organic Egg Whites        86             16  eggs  dairy eggs  \n",
      "1  Organic Egg Whites        86             16  eggs  dairy eggs  \n",
      "2  Organic Egg Whites        86             16  eggs  dairy eggs  \n",
      "3  Organic Egg Whites        86             16  eggs  dairy eggs  \n",
      "4  Organic Egg Whites        86             16  eggs  dairy eggs  \n"
     ]
    }
   ],
   "source": [
    "###### Merge Order Prior Set with Consolidated Product Information ######\n",
    "dfConsolidatedPrior = pd.merge(dfConsolidatedPrior,dfConsolidatedProducts,on='product_id')\n",
    "print(dfConsolidatedPrior.head())\n",
    "del dfConsolidatedProducts   #Free up some memory"
   ]
  },
  {
   "cell_type": "code",
   "execution_count": 17,
   "metadata": {
    "collapsed": false
   },
   "outputs": [
    {
     "name": "stdout",
     "output_type": "stream",
     "text": [
      "   order_id  user_id eval_set  order_number  order_dow  order_hour_of_day  \\\n",
      "0   1187899        1    train            11          4                  8   \n",
      "1   2757217       67    train            25          0                 11   \n",
      "2    632715      676    train            12          0                 13   \n",
      "3   1167274      760    train             5          4                 10   \n",
      "4   3347074      804    train            16          3                 21   \n",
      "\n",
      "   days_since_prior_order  product_id  add_to_cart_order  reordered  \\\n",
      "0                    14.0         196                  1          1   \n",
      "1                     5.0         196                  1          1   \n",
      "2                    26.0         196                  2          1   \n",
      "3                     8.0         196                  2          1   \n",
      "4                     5.0         196                  4          0   \n",
      "\n",
      "  product_name  aisle_id  department_id        aisle department  \n",
      "0         Soda        77              7  soft drinks  beverages  \n",
      "1         Soda        77              7  soft drinks  beverages  \n",
      "2         Soda        77              7  soft drinks  beverages  \n",
      "3         Soda        77              7  soft drinks  beverages  \n",
      "4         Soda        77              7  soft drinks  beverages  \n"
     ]
    }
   ],
   "source": [
    "print(dfConsolidatedOrders.head())"
   ]
  },
  {
   "cell_type": "code",
   "execution_count": 18,
   "metadata": {
    "collapsed": false,
    "scrolled": true
   },
   "outputs": [
    {
     "name": "stdout",
     "output_type": "stream",
     "text": [
      "Shape of Final DataFrame with Full Information: (33819106, 15)\n",
      "   add_to_cart_order aisle  aisle_id  days_since_prior_order  department  \\\n",
      "0                  1  eggs        86                     8.0  dairy eggs   \n",
      "1                  5  eggs        86                     7.0  dairy eggs   \n",
      "2                 13  eggs        86                    10.0  dairy eggs   \n",
      "3                  5  eggs        86                     8.0  dairy eggs   \n",
      "4                 28  eggs        86                     9.0  dairy eggs   \n",
      "\n",
      "   department_id eval_set  order_dow  order_hour_of_day  order_id  \\\n",
      "0             16    prior          5                  9         2   \n",
      "1             16    prior          0                 16        26   \n",
      "2             16    prior          6                  8       120   \n",
      "3             16    prior          6                  9       327   \n",
      "4             16    prior          0                 12       390   \n",
      "\n",
      "   order_number  product_id        product_name  reordered  user_id  \n",
      "0             3       33120  Organic Egg Whites          1   202279  \n",
      "1             2       33120  Organic Egg Whites          0   153404  \n",
      "2            11       33120  Organic Egg Whites          0    23750  \n",
      "3            21       33120  Organic Egg Whites          1    58707  \n",
      "4            48       33120  Organic Egg Whites          1   166654  \n"
     ]
    }
   ],
   "source": [
    "###### Merge Product Information with Consolidated Orders ######\n",
    "dfFullInfo = pd.concat([dfConsolidatedPrior,dfConsolidatedOrders])\n",
    "del dfConsolidatedPrior   #Free up some memory\n",
    "del dfConsolidatedOrders   #Free up some memory\n",
    "print(\"Shape of Final DataFrame with Full Information: \" + str(dfFullInfo.shape))\n",
    "print(dfFullInfo.head())"
   ]
  },
  {
   "cell_type": "code",
   "execution_count": 19,
   "metadata": {
    "collapsed": false,
    "scrolled": false
   },
   "outputs": [
    {
     "name": "stdout",
     "output_type": "stream",
     "text": [
      "          add_to_cart_order            aisle  aisle_id  \\\n",
      "3059124                   1      soft drinks        77   \n",
      "13389957                  2  soy lactosefree        91   \n",
      "17764526                  4    popcorn jerky        23   \n",
      "21552934                  3    popcorn jerky        23   \n",
      "28226758                  5      paper goods        54   \n",
      "\n",
      "          days_since_prior_order  department  department_id eval_set  \\\n",
      "3059124                  10000.0   beverages              7    prior   \n",
      "13389957                 10000.0  dairy eggs             16    prior   \n",
      "17764526                 10000.0      snacks             19    prior   \n",
      "21552934                 10000.0      snacks             19    prior   \n",
      "28226758                 10000.0   household             17    prior   \n",
      "\n",
      "          order_dow  order_hour_of_day  order_id  order_number  product_id  \\\n",
      "3059124           2                  8   2539329             1         196   \n",
      "13389957          2                  8   2539329             1       14084   \n",
      "17764526          2                  8   2539329             1       26088   \n",
      "21552934          2                  8   2539329             1       12427   \n",
      "28226758          2                  8   2539329             1       26405   \n",
      "\n",
      "                                     product_name  reordered  user_id  \n",
      "3059124                                      Soda          0        1  \n",
      "13389957  Organic Unsweetened Vanilla Almond Milk          0        1  \n",
      "17764526               Aged White Cheddar Popcorn          0        1  \n",
      "21552934                      Original Beef Jerky          0        1  \n",
      "28226758         XL Pick-A-Size Paper Towel Rolls          0        1  \n"
     ]
    }
   ],
   "source": [
    "##### Sort by user_id, then order_number, then eval_set #####\n",
    "dfFullInfo.sort_values(['user_id','order_number','eval_set'],inplace=True)\n",
    "print(dfFullInfo.head())"
   ]
  },
  {
   "cell_type": "code",
   "execution_count": 20,
   "metadata": {
    "collapsed": false
   },
   "outputs": [
    {
     "name": "stdout",
     "output_type": "stream",
     "text": [
      "          user_id  order_number  order_id  product_id  \\\n",
      "3059124         1             1   2539329         196   \n",
      "13389957        1             1   2539329       14084   \n",
      "17764526        1             1   2539329       26088   \n",
      "21552934        1             1   2539329       12427   \n",
      "28226758        1             1   2539329       26405   \n",
      "\n",
      "                                     product_name  reordered  department_id  \\\n",
      "3059124                                      Soda          0              7   \n",
      "13389957  Organic Unsweetened Vanilla Almond Milk          0             16   \n",
      "17764526               Aged White Cheddar Popcorn          0             19   \n",
      "21552934                      Original Beef Jerky          0             19   \n",
      "28226758         XL Pick-A-Size Paper Towel Rolls          0             17   \n",
      "\n",
      "          department  aisle_id            aisle  add_to_cart_order  \\\n",
      "3059124    beverages        77      soft drinks                  1   \n",
      "13389957  dairy eggs        91  soy lactosefree                  2   \n",
      "17764526      snacks        23    popcorn jerky                  4   \n",
      "21552934      snacks        23    popcorn jerky                  3   \n",
      "28226758   household        54      paper goods                  5   \n",
      "\n",
      "          days_since_prior_order  order_dow  order_hour_of_day eval_set  \n",
      "3059124                  10000.0          2                  8    prior  \n",
      "13389957                 10000.0          2                  8    prior  \n",
      "17764526                 10000.0          2                  8    prior  \n",
      "21552934                 10000.0          2                  8    prior  \n",
      "28226758                 10000.0          2                  8    prior  \n"
     ]
    }
   ],
   "source": [
    "##### Reorder the columns of the DataFrame to something more convenient #####\n",
    "columns = ['user_id','order_number','order_id','product_id','product_name','reordered',\n",
    "           'department_id','department','aisle_id','aisle','add_to_cart_order',\n",
    "           'days_since_prior_order','order_dow','order_hour_of_day','eval_set']\n",
    "dfFullInfo = dfFullInfo[columns]\n",
    "print (dfFullInfo.head())"
   ]
  },
  {
   "cell_type": "markdown",
   "metadata": {},
   "source": [
    "### Some Visualization"
   ]
  },
  {
   "cell_type": "code",
   "execution_count": 21,
   "metadata": {
    "collapsed": false
   },
   "outputs": [
    {
     "data": {
      "text/plain": [
       "<matplotlib.text.Text at 0xd15d278>"
      ]
     },
     "execution_count": 21,
     "metadata": {},
     "output_type": "execute_result"
    },
    {
     "data": {
      "image/png": "iVBORw0KGgoAAAANSUhEUgAAAvYAAAG+CAYAAAD4AkC8AAAABHNCSVQICAgIfAhkiAAAAAlwSFlz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\ndMUJ6wAAAABJRU5ErkJggg==\n",
      "text/plain": [
       "<matplotlib.figure.Figure at 0xafdf8d0>"
      ]
     },
     "metadata": {},
     "output_type": "display_data"
    }
   ],
   "source": [
    "##### Look at distribution of order timing throughout the day #####\n",
    "order_hour_of_day_range = np.amax(dfFullInfo['order_hour_of_day']) - np.amin(dfFullInfo['order_hour_of_day']) + 1\n",
    "\n",
    "dfFullInfo.hist(column='order_hour_of_day',bins=2*order_hour_of_day_range-1,\n",
    "                figsize=(12,7),color='blue', histtype='bar')\n",
    "\n",
    "plt.xlabel('Hour of Day',fontsize=15)\n",
    "plt.ylabel('Number of Orders',fontsize=15)"
   ]
  },
  {
   "cell_type": "code",
   "execution_count": 22,
   "metadata": {
    "collapsed": false
   },
   "outputs": [
    {
     "data": {
      "text/plain": [
       "<matplotlib.text.Text at 0xcde5a20>"
      ]
     },
     "execution_count": 22,
     "metadata": {},
     "output_type": "execute_result"
    },
    {
     "data": {
      "image/png": "iVBORw0KGgoAAAANSUhEUgAAAvYAAAG+CAYAAAD4AkC8AAAABHNCSVQICAgIfAhkiAAAAAlwSFlz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\nS5IkSR3w/wMhNsOmrhd0AQAAAABJRU5ErkJggg==\n",
      "text/plain": [
       "<matplotlib.figure.Figure at 0xafdfa90>"
      ]
     },
     "metadata": {},
     "output_type": "display_data"
    }
   ],
   "source": [
    "##### Look at distribution of order timing throughout the week #####\n",
    "order_dow_range = np.amax(dfFullInfo['order_dow']) - np.amin(dfFullInfo['order_dow']) + 1\n",
    "dfFullInfo.hist(column='order_dow',bins=2*order_dow_range-1,\n",
    "                figsize=(12,7),color='blue', histtype='bar')\n",
    "\n",
    "plt.xlabel('Day of Week',fontsize=15)\n",
    "plt.ylabel('Number of Orders',fontsize=15)"
   ]
  },
  {
   "cell_type": "code",
   "execution_count": 23,
   "metadata": {
    "collapsed": false
   },
   "outputs": [
    {
     "data": {
      "text/plain": [
       "<matplotlib.text.Text at 0xd188240>"
      ]
     },
     "execution_count": 23,
     "metadata": {},
     "output_type": "execute_result"
    },
    {
     "data": {
      "image/png": "iVBORw0KGgoAAAANSUhEUgAAAvwAAAGyCAYAAACY4hAOAAAABHNCSVQICAgIfAhkiAAAAAlwSFlz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\nlyRJkjrY/w+MvnuUBbxxmwAAAABJRU5ErkJggg==\n",
      "text/plain": [
       "<matplotlib.figure.Figure at 0xaf68160>"
      ]
     },
     "metadata": {},
     "output_type": "display_data"
    }
   ],
   "source": [
    "##### Look at how many prior orders we have #####\n",
    "order_number_range = np.amax(dfFullInfo['order_number']) - np.amin(dfFullInfo['order_number']) + 1\n",
    "dfFullInfo[dfFullInfo['eval_set']=='prior'].groupby('order_number').agg(len).plot(figsize=(12,7),color='blue',\n",
    "                                                                               legend=False,grid=True,\n",
    "                                                                               xticks=range(0,order_number_range+1,10))\n",
    "\n",
    "plt.xlabel('Order Number',fontsize=15)\n",
    "plt.ylabel('Count',fontsize=15)"
   ]
  },
  {
   "cell_type": "code",
   "execution_count": 24,
   "metadata": {
    "collapsed": false
   },
   "outputs": [
    {
     "data": {
      "text/plain": [
       "<matplotlib.text.Text at 0xd3b0518>"
      ]
     },
     "execution_count": 24,
     "metadata": {},
     "output_type": "execute_result"
    },
    {
     "data": {
      "image/png": "iVBORw0KGgoAAAANSUhEUgAAAvwAAAGyCAYAAACY4hAOAAAABHNCSVQICAgIfAhkiAAAAAlwSFlz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\nABgLjh436+qzjl4AAAAASUVORK5CYII=\n",
      "text/plain": [
       "<matplotlib.figure.Figure at 0xcd2eeb8>"
      ]
     },
     "metadata": {},
     "output_type": "display_data"
    }
   ],
   "source": [
    "##### Look at relationship between reordering of a product and its position in the cart #####\n",
    "add_to_cart_order_range = np.amax(dfFullInfo['add_to_cart_order']) - np.amin(dfFullInfo['add_to_cart_order']) + 1\n",
    "dfFullInfo[dfFullInfo['reordered']==1].groupby('add_to_cart_order').agg(len).plot(figsize=(12,7),color='blue',\n",
    "                                                                               legend=False,grid=True,\n",
    "                                                                               xticks=range(0,add_to_cart_order_range+1,10))\n",
    "\n",
    "plt.xlabel('Add to Cart Order',fontsize=15)\n",
    "plt.ylabel('Count of Reordered',fontsize=15)"
   ]
  },
  {
   "cell_type": "code",
   "execution_count": 25,
   "metadata": {
    "collapsed": false
   },
   "outputs": [
    {
     "data": {
      "text/plain": [
       "([<matplotlib.axis.XTick at 0xcd48080>, <matplotlib.axis.XTick at 0xe4c2828>],\n",
       " <a list of 2 Text xticklabel objects>)"
      ]
     },
     "execution_count": 25,
     "metadata": {},
     "output_type": "execute_result"
    },
    {
     "data": {
      "image/png": "iVBORw0KGgoAAAANSUhEUgAAAt8AAAG+CAYAAABLSmimAAAABHNCSVQICAgIfAhkiAAAAAlwSFlz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\nRK5CYII=\n",
      "text/plain": [
       "<matplotlib.figure.Figure at 0xc7ca978>"
      ]
     },
     "metadata": {},
     "output_type": "display_data"
    }
   ],
   "source": [
    "##### Look at distribution of reordered and non-reordered entries in dataset #####\n",
    "dfFullInfo.hist(column='reordered', figsize=(12,7), histtype='bar', bins=[-0.1,0.1,0.9,1.1], grid=False)\n",
    "\n",
    "plt.xlabel('Reordered',fontsize=15)\n",
    "plt.ylabel('Count',fontsize=15)\n",
    "plt.xticks([0,1])"
   ]
  },
  {
   "cell_type": "code",
   "execution_count": 26,
   "metadata": {
    "collapsed": false
   },
   "outputs": [],
   "source": [
    "##### Separate Features and Targets #####\n",
    "dfFeatures = dfFullInfo[['user_id', 'order_number', 'days_since_prior_order', 'order_dow', 'order_hour_of_day', 'product_id', 'eval_set']]\n",
    "dfTarget = dfFullInfo[['reordered', 'eval_set']]"
   ]
  },
  {
   "cell_type": "code",
   "execution_count": 27,
   "metadata": {
    "collapsed": false,
    "scrolled": true
   },
   "outputs": [
    {
     "name": "stderr",
     "output_type": "stream",
     "text": [
      "C:\\Users\\Ahmad\\Anaconda2\\lib\\site-packages\\ipykernel\\__main__.py:10: SettingWithCopyWarning: \n",
      "A value is trying to be set on a copy of a slice from a DataFrame\n",
      "\n",
      "See the caveats in the documentation: http://pandas.pydata.org/pandas-docs/stable/indexing.html#indexing-view-versus-copy\n"
     ]
    }
   ],
   "source": [
    "##### Use Prior orderes to train models, and train orders for model testing and evaluation #####\n",
    "Xtrain = dfFeatures.loc[dfFeatures.eval_set=='prior',:]\n",
    "ytrain = dfTarget.loc[dfTarget.eval_set=='prior',:]\n",
    "Xtest = dfFeatures.loc[dfFeatures.eval_set=='train',:]\n",
    "ytest = dfTarget.loc[dfTarget.eval_set=='train',:]\n",
    "\n",
    "##### Now drop eval_set from DataFrames (no longer need them) #####\n",
    "droplist = [Xtrain,ytrain,Xtest,ytest]\n",
    "for x in droplist:\n",
    "    x.drop('eval_set',axis=1,inplace=True)"
   ]
  },
  {
   "cell_type": "code",
   "execution_count": 28,
   "metadata": {
    "collapsed": false
   },
   "outputs": [
    {
     "name": "stdout",
     "output_type": "stream",
     "text": [
      "((32434489, 6), (32434489, 1))\n"
     ]
    }
   ],
   "source": [
    "print(Xtrain.shape,ytrain.shape)"
   ]
  },
  {
   "cell_type": "code",
   "execution_count": 29,
   "metadata": {
    "collapsed": false
   },
   "outputs": [
    {
     "name": "stdout",
     "output_type": "stream",
     "text": [
      "F1 Score: 0.7489\n"
     ]
    }
   ],
   "source": [
    "##### Try Gaussian Naive Bayes (GNB) #####\n",
    "\n",
    "from sklearn.naive_bayes import GaussianNB\n",
    "from sklearn.metrics import f1_score\n",
    "\n",
    "GNB = GaussianNB()\n",
    "GNB.fit(Xtrain.iloc[0:5000000,:], np.ravel(ytrain.iloc[0:5000000,:]))\n",
    "Predictions = GNB.predict(Xtest)\n",
    "\n",
    "score = f1_score(np.ravel(ytest),Predictions)\n",
    "print(\"F1 Score: %.4f\"%score)"
   ]
  },
  {
   "cell_type": "code",
   "execution_count": 30,
   "metadata": {
    "collapsed": false,
    "scrolled": true
   },
   "outputs": [
    {
     "name": "stdout",
     "output_type": "stream",
     "text": [
      "Fitting Model\n",
      "Fitting 5 folds for each of 2 candidates, totalling 10 fits\n"
     ]
    },
    {
     "name": "stderr",
     "output_type": "stream",
     "text": [
      "[Parallel(n_jobs=1)]: Done  10 out of  10 | elapsed:  4.6min finished\n"
     ]
    },
    {
     "name": "stdout",
     "output_type": "stream",
     "text": [
      "Fitted, Predicting\n",
      "F1 Score: 0.7537\n",
      "{'kernel': 'rbf', 'shrinking': True}\n"
     ]
    }
   ],
   "source": [
    "##### Try Support Vector Classifier (SVC) with GridSearch and 5-fold Crossvalidation #####\n",
    "from sklearn.svm import SVC\n",
    "\n",
    "#Use a smaller subset of the dataset for this model for feasible runtimes (score doesn't vary too much beyond 8000-10000entries)\n",
    "x = 15000   \n",
    "\n",
    "SVC_model = SVC(random_state=47)\n",
    "\n",
    "params = {'kernel': ['rbf'],\n",
    "         'shrinking': [True, False]}\n",
    "\n",
    "grid = GridSearchCV(SVC_model, params, verbose=1, cv=5)\n",
    "\n",
    "print(\"Fitting Model\")\n",
    "grid.fit(Xtrain.iloc[0:x,:], np.ravel(ytrain.iloc[0:x,:]))\n",
    "#SVC_model.fit(Xtrain.iloc[0:x,:], np.ravel(ytrain.iloc[0:x,:]))\n",
    "print(\"Fitted, Predicting\")\n",
    "Predictions = grid.predict(Xtest.iloc[0:x,:])\n",
    "#Predictions = SVC_model.predict(Xtest.iloc[0:x,:])\n",
    "score = f1_score(ytest.iloc[0:x,:],Predictions)\n",
    "print(\"F1 Score: %.4f\"%score)\n",
    "print(grid.best_params_)"
   ]
  },
  {
   "cell_type": "code",
   "execution_count": 31,
   "metadata": {
    "collapsed": false
   },
   "outputs": [
    {
     "name": "stdout",
     "output_type": "stream",
     "text": [
      "Fitting Model\n",
      "Fitting 5 folds for each of 30 candidates, totalling 150 fits\n",
      "Fitted, Predicting\n",
      "F1 Score: 0.6114\n",
      "{'n_neighbors': 11, 'weights': 'uniform', 'p': 1}\n"
     ]
    },
    {
     "name": "stderr",
     "output_type": "stream",
     "text": [
      "[Parallel(n_jobs=1)]: Done 150 out of 150 | elapsed:  1.6min finished\n"
     ]
    }
   ],
   "source": [
    "##### Try K-Nearest-Neighbors (KNN) with GridSearch and 5-fold Crossvalidation #####\n",
    "from sklearn.neighbors import KNeighborsClassifier\n",
    "\n",
    "params = {'n_neighbors': range(10,15),\n",
    "         'weights': ['uniform','distance'],\n",
    "         'p': range(1,4)}\n",
    "\n",
    "neigh = KNeighborsClassifier()\n",
    "\n",
    "grid = GridSearchCV(neigh, params, verbose=1, cv=5)\n",
    "print(\"Fitting Model\")\n",
    "grid.fit(Xtrain.iloc[0:x,:], np.ravel(ytrain.iloc[0:x,:]))\n",
    "print(\"Fitted, Predicting\")\n",
    "Predictions = grid.predict(Xtest.iloc[0:x,:])\n",
    "score = f1_score(ytest.iloc[0:x,:],Predictions)\n",
    "print(\"F1 Score: %.4f\"%score)\n",
    "print(grid.best_params_)"
   ]
  },
  {
   "cell_type": "code",
   "execution_count": 33,
   "metadata": {
    "collapsed": false,
    "scrolled": true
   },
   "outputs": [
    {
     "name": "stdout",
     "output_type": "stream",
     "text": [
      "[]\n",
      "[]\n",
      "[]\n",
      "Fitting Model 0 with 1000 samples\n",
      "Fitting 5 folds for each of 1 candidates, totalling 5 fits\n"
     ]
    },
    {
     "name": "stderr",
     "output_type": "stream",
     "text": [
      "[Parallel(n_jobs=1)]: Done   5 out of   5 | elapsed:    0.3s finished\n"
     ]
    },
    {
     "name": "stdout",
     "output_type": "stream",
     "text": [
      "Fitted, Predicting\n",
      "F1 Score: 0.0376\n",
      "Fitting Model 1 with 2000 samples\n",
      "Fitting 5 folds for each of 1 candidates, totalling 5 fits\n"
     ]
    },
    {
     "name": "stderr",
     "output_type": "stream",
     "text": [
      "[Parallel(n_jobs=1)]: Done   5 out of   5 | elapsed:    1.6s finished\n"
     ]
    },
    {
     "name": "stdout",
     "output_type": "stream",
     "text": [
      "Fitted, Predicting\n",
      "F1 Score: 0.0225\n",
      "Fitting Model 2 with 3000 samples\n",
      "Fitting 5 folds for each of 1 candidates, totalling 5 fits\n"
     ]
    },
    {
     "name": "stderr",
     "output_type": "stream",
     "text": [
      "[Parallel(n_jobs=1)]: Done   5 out of   5 | elapsed:    3.7s finished\n"
     ]
    },
    {
     "name": "stdout",
     "output_type": "stream",
     "text": [
      "Fitted, Predicting\n",
      "F1 Score: 0.0215\n",
      "Fitting Model 3 with 4000 samples\n",
      "Fitting 5 folds for each of 1 candidates, totalling 5 fits\n"
     ]
    },
    {
     "name": "stderr",
     "output_type": "stream",
     "text": [
      "[Parallel(n_jobs=1)]: Done   5 out of   5 | elapsed:    7.1s finished\n"
     ]
    },
    {
     "name": "stdout",
     "output_type": "stream",
     "text": [
      "Fitted, Predicting\n",
      "F1 Score: 0.7541\n",
      "Fitting Model 4 with 5000 samples\n",
      "Fitting 5 folds for each of 1 candidates, totalling 5 fits\n"
     ]
    },
    {
     "name": "stderr",
     "output_type": "stream",
     "text": [
      "[Parallel(n_jobs=1)]: Done   5 out of   5 | elapsed:   11.0s finished\n"
     ]
    },
    {
     "name": "stdout",
     "output_type": "stream",
     "text": [
      "Fitted, Predicting\n",
      "F1 Score: 0.7539\n",
      "Fitting Model 5 with 6000 samples\n",
      "Fitting 5 folds for each of 1 candidates, totalling 5 fits\n"
     ]
    },
    {
     "name": "stderr",
     "output_type": "stream",
     "text": [
      "[Parallel(n_jobs=1)]: Done   5 out of   5 | elapsed:   15.4s finished\n"
     ]
    },
    {
     "name": "stdout",
     "output_type": "stream",
     "text": [
      "Fitted, Predicting\n",
      "F1 Score: 0.0269\n",
      "Fitting Model 6 with 7000 samples\n",
      "Fitting 5 folds for each of 1 candidates, totalling 5 fits\n"
     ]
    },
    {
     "name": "stderr",
     "output_type": "stream",
     "text": [
      "[Parallel(n_jobs=1)]: Done   5 out of   5 | elapsed:   22.4s finished\n"
     ]
    },
    {
     "name": "stdout",
     "output_type": "stream",
     "text": [
      "Fitted, Predicting\n",
      "F1 Score: 0.7585\n",
      "Fitting Model 7 with 8000 samples\n",
      "Fitting 5 folds for each of 1 candidates, totalling 5 fits\n"
     ]
    },
    {
     "name": "stderr",
     "output_type": "stream",
     "text": [
      "[Parallel(n_jobs=1)]: Done   5 out of   5 | elapsed:   29.4s finished\n"
     ]
    },
    {
     "name": "stdout",
     "output_type": "stream",
     "text": [
      "Fitted, Predicting\n",
      "F1 Score: 0.7611\n",
      "Fitting Model 8 with 9000 samples\n",
      "Fitting 5 folds for each of 1 candidates, totalling 5 fits\n"
     ]
    },
    {
     "name": "stderr",
     "output_type": "stream",
     "text": [
      "[Parallel(n_jobs=1)]: Done   5 out of   5 | elapsed:   38.0s finished\n"
     ]
    },
    {
     "name": "stdout",
     "output_type": "stream",
     "text": [
      "Fitted, Predicting\n",
      "F1 Score: 0.7533\n",
      "Fitting Model 9 with 10000 samples\n",
      "Fitting 5 folds for each of 1 candidates, totalling 5 fits\n"
     ]
    },
    {
     "name": "stderr",
     "output_type": "stream",
     "text": [
      "[Parallel(n_jobs=1)]: Done   5 out of   5 | elapsed:   50.5s finished\n"
     ]
    },
    {
     "name": "stdout",
     "output_type": "stream",
     "text": [
      "Fitted, Predicting\n",
      "F1 Score: 0.7486\n",
      "Fitting Model 10 with 11000 samples\n",
      "Fitting 5 folds for each of 1 candidates, totalling 5 fits\n"
     ]
    },
    {
     "name": "stderr",
     "output_type": "stream",
     "text": [
      "[Parallel(n_jobs=1)]: Done   5 out of   5 | elapsed:  1.1min finished\n"
     ]
    },
    {
     "name": "stdout",
     "output_type": "stream",
     "text": [
      "Fitted, Predicting\n",
      "F1 Score: 0.7510\n",
      "Fitting Model 11 with 12000 samples\n",
      "Fitting 5 folds for each of 1 candidates, totalling 5 fits\n"
     ]
    },
    {
     "name": "stderr",
     "output_type": "stream",
     "text": [
      "[Parallel(n_jobs=1)]: Done   5 out of   5 | elapsed:  1.5min finished\n"
     ]
    },
    {
     "name": "stdout",
     "output_type": "stream",
     "text": [
      "Fitted, Predicting\n",
      "F1 Score: 0.7557\n",
      "Fitting Model 12 with 13000 samples\n",
      "Fitting 5 folds for each of 1 candidates, totalling 5 fits\n"
     ]
    },
    {
     "name": "stderr",
     "output_type": "stream",
     "text": [
      "[Parallel(n_jobs=1)]: Done   5 out of   5 | elapsed:  1.7min finished\n"
     ]
    },
    {
     "name": "stdout",
     "output_type": "stream",
     "text": [
      "Fitted, Predicting\n",
      "F1 Score: 0.7563\n",
      "Fitting Model 13 with 14000 samples\n",
      "Fitting 5 folds for each of 1 candidates, totalling 5 fits\n"
     ]
    },
    {
     "name": "stderr",
     "output_type": "stream",
     "text": [
      "[Parallel(n_jobs=1)]: Done   5 out of   5 | elapsed:  2.2min finished\n"
     ]
    },
    {
     "name": "stdout",
     "output_type": "stream",
     "text": [
      "Fitted, Predicting\n",
      "F1 Score: 0.7549\n",
      "Fitting Model 14 with 15000 samples\n",
      "Fitting 5 folds for each of 1 candidates, totalling 5 fits\n"
     ]
    },
    {
     "name": "stderr",
     "output_type": "stream",
     "text": [
      "[Parallel(n_jobs=1)]: Done   5 out of   5 | elapsed:  2.4min finished\n"
     ]
    },
    {
     "name": "stdout",
     "output_type": "stream",
     "text": [
      "Fitted, Predicting\n",
      "F1 Score: 0.7537\n"
     ]
    }
   ],
   "source": [
    "##### Sweep Subset Size and show progression of F1 Score and Mean Fit Time #####\n",
    "\n",
    "SVC_model = []\n",
    "Predictions = []\n",
    "score = []\n",
    "fit_times = []\n",
    "xRange = range(1000,16000,1000)\n",
    "i = 0\n",
    "params = {'kernel': ['rbf'],\n",
    "          'shrinking': [True]}\n",
    "\n",
    "for x in xRange:\n",
    "    SVC_model.append(GridSearchCV(SVC(random_state=47),params,cv=5,verbose=1))\n",
    "    print(\"Fitting Model %d with %d samples\"%(i,x))\n",
    "    SVC_model[i].fit(Xtrain.iloc[0:x,:], np.ravel(ytrain.iloc[0:x,:]))\n",
    "    fit_times.append(SVC_model[i].cv_results_['mean_fit_time'])\n",
    "    print(\"Fitted, Predicting\")\n",
    "    Predictions.append(SVC_model[i].predict(Xtest.iloc[0:x,:]))\n",
    "    score.append(f1_score(ytest.iloc[0:x,:],Predictions[i]))\n",
    "    print(\"F1 Score: %.4f\"%score[i])\n",
    "    i+=1"
   ]
  },
  {
   "cell_type": "code",
   "execution_count": 34,
   "metadata": {
    "collapsed": false
   },
   "outputs": [
    {
     "data": {
      "image/png": "iVBORw0KGgoAAAANSUhEUgAAA1gAAAHwCAYAAAC7T84CAAAABHNCSVQICAgIfAhkiAAAAAlwSFlz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\n",
      "text/plain": [
       "<matplotlib.figure.Figure at 0x355fa390>"
      ]
     },
     "metadata": {},
     "output_type": "display_data"
    }
   ],
   "source": [
    "##### Visualize F1 Score and Mean Fit Time Progression #####\n",
    "fig, ax1 = plt.subplots(figsize=(12,7))\n",
    "ax1.plot(xRange, score, 'b-')\n",
    "ax1.set_xlabel('Number of Training Samples', fontsize = 15)\n",
    "ax1.set_ylabel('F1 Score', color='b', fontsize = 15)\n",
    "ax1.tick_params('y', colors='b')\n",
    "ax1.grid()\n",
    "\n",
    "ax2 = ax1.twinx()\n",
    "ax2.plot(xRange, fit_times, 'r-')\n",
    "ax2.set_ylabel('Mean Fit Time (s)', color='r', fontsize = 15)\n",
    "ax2.tick_params('y', colors='r')\n",
    "fig.tight_layout()\n"
   ]
  }
 ],
 "metadata": {
  "kernelspec": {
   "display_name": "Python 2",
   "language": "python",
   "name": "python2"
  },
  "language_info": {
   "codemirror_mode": {
    "name": "ipython",
    "version": 2
   },
   "file_extension": ".py",
   "mimetype": "text/x-python",
   "name": "python",
   "nbconvert_exporter": "python",
   "pygments_lexer": "ipython2",
   "version": "2.7.13"
  }
 },
 "nbformat": 4,
 "nbformat_minor": 2
}
